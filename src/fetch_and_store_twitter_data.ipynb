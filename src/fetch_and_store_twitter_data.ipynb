{
 "cells": [
  {
   "cell_type": "code",
   "execution_count": 1,
   "id": "virgin-stuart",
   "metadata": {},
   "outputs": [],
   "source": [
    "%config Completer.use_jedi = False"
   ]
  },
  {
   "cell_type": "code",
   "execution_count": 2,
   "id": "difficult-position",
   "metadata": {},
   "outputs": [],
   "source": [
    "import os\n",
    "import pandas as pd\n",
    "import sys\n",
    "\n",
    "sys.path.insert(0, \".\")"
   ]
  },
  {
   "cell_type": "code",
   "execution_count": 3,
   "id": "peripheral-brunei",
   "metadata": {},
   "outputs": [],
   "source": [
    "from utils import load_json, save_json, BASE_DATA_DIR\n",
    "from twitter_requests import TwitterApi"
   ]
  },
  {
   "cell_type": "code",
   "execution_count": 4,
   "id": "daily-liechtenstein",
   "metadata": {},
   "outputs": [],
   "source": [
    "RANDOM_SEED = 42"
   ]
  },
  {
   "cell_type": "markdown",
   "id": "ongoing-option",
   "metadata": {},
   "source": [
    "# Load data"
   ]
  },
  {
   "cell_type": "code",
   "execution_count": 5,
   "id": "caring-teens",
   "metadata": {},
   "outputs": [],
   "source": [
    "twitter_api = TwitterApi(timeline_params_path=\"timeline_params.json\")"
   ]
  },
  {
   "cell_type": "code",
   "execution_count": 6,
   "id": "unexpected-joining",
   "metadata": {},
   "outputs": [],
   "source": [
    "candidates_df = pd.read_csv(os.path.join(BASE_DATA_DIR, \"twitter_data/candidates_20210721.csv\"))"
   ]
  },
  {
   "cell_type": "code",
   "execution_count": 7,
   "id": "c6cc58fd",
   "metadata": {},
   "outputs": [],
   "source": [
    "# candidates_df = pd.concat([candidates_df, pd.DataFrame([candidate])], axis=0).reset_index(drop=True)\n",
    "# candidates_df.to_csv(os.path.join(BASE_DATA_DIR, \"twitter_data/candidates_20210721.csv\"), index=False)"
   ]
  },
  {
   "cell_type": "code",
   "execution_count": 8,
   "id": "middle-layout",
   "metadata": {},
   "outputs": [],
   "source": [
    "tweet_folder_path = os.path.join(BASE_DATA_DIR, \"twitter_data/raw_tweets\")"
   ]
  },
  {
   "cell_type": "code",
   "execution_count": 9,
   "id": "complete-capacity",
   "metadata": {},
   "outputs": [
    {
     "name": "stdout",
     "output_type": "stream",
     "text": [
      "Alice Weidel\n",
      "0 tweets queried and stored.\n",
      "\n",
      "Tino Chrupalla\n",
      "0 tweets queried and stored.\n",
      "\n",
      "Armin Laschet\n",
      "0 tweets queried and stored.\n",
      "\n",
      "Markus Söder\n",
      "0 tweets queried and stored.\n",
      "\n",
      "Christian Lindner\n",
      "0 tweets queried and stored.\n",
      "\n",
      "Nicola Beer\n",
      "0 tweets queried and stored.\n",
      "\n",
      "Katja Suding\n",
      "0 tweets queried and stored.\n",
      "\n",
      "Michael Kellner\n",
      "5 tweets queried and stored.\n",
      "\n",
      "Ricarda Lang\n",
      "13 tweets queried and stored.\n",
      "\n",
      "Annalena Baerbock\n",
      "6 tweets queried and stored.\n",
      "\n",
      "Janine Wissler\n",
      "1 tweets queried and stored.\n",
      "\n",
      "Susanne Hennig-Wellsow\n",
      "1 tweets queried and stored.\n",
      "\n",
      "Amira Mohamed Ali\n",
      "2 tweets queried and stored.\n",
      "\n",
      "Saskia Esken\n",
      "37 tweets queried and stored.\n",
      "\n",
      "Norbert Walter-Borjans\n",
      "9 tweets queried and stored.\n",
      "\n",
      "Olaf Scholz\n",
      "5 tweets queried and stored.\n",
      "\n",
      "Julia Klöckner\n",
      "5 tweets queried and stored.\n",
      "\n",
      "Friedrich Merz\n",
      "6 tweets queried and stored.\n",
      "\n"
     ]
    }
   ],
   "source": [
    "for i, row in candidates_df.iterrows():\n",
    "    print(row.full_name)\n",
    "    twitter_api.build_user_dataset(row.twitter_name, data_dir=tweet_folder_path)\n",
    "    print()"
   ]
  },
  {
   "cell_type": "markdown",
   "id": "disciplinary-omaha",
   "metadata": {},
   "source": [
    "# Create dataset"
   ]
  },
  {
   "cell_type": "code",
   "execution_count": 10,
   "id": "acceptable-blogger",
   "metadata": {},
   "outputs": [],
   "source": [
    "from glob import glob"
   ]
  },
  {
   "cell_type": "code",
   "execution_count": 11,
   "id": "expected-basics",
   "metadata": {},
   "outputs": [],
   "source": [
    "twitter_files = glob(f\"{tweet_folder_path}/*.json\")"
   ]
  },
  {
   "cell_type": "code",
   "execution_count": 12,
   "id": "expensive-athletics",
   "metadata": {},
   "outputs": [],
   "source": [
    "twitter_data = []\n",
    "\n",
    "for filepath in twitter_files:\n",
    "    twitter_data.extend(load_json(filepath))"
   ]
  },
  {
   "cell_type": "code",
   "execution_count": 13,
   "id": "regulated-surprise",
   "metadata": {},
   "outputs": [],
   "source": [
    "twitter_df = pd.DataFrame(twitter_data)"
   ]
  },
  {
   "cell_type": "code",
   "execution_count": 14,
   "id": "excessive-validity",
   "metadata": {},
   "outputs": [],
   "source": [
    "twitter_df[\"author_id\"] = twitter_df.author_id.map(str)"
   ]
  },
  {
   "cell_type": "code",
   "execution_count": 15,
   "id": "0da95ff1",
   "metadata": {},
   "outputs": [],
   "source": [
    "candidates_df[\"author_id\"] = candidates_df.twitter_name.map(lambda x: str(twitter_api.query_user_data_by_name(x)[\"id\"]))"
   ]
  },
  {
   "cell_type": "code",
   "execution_count": 16,
   "id": "broad-audio",
   "metadata": {},
   "outputs": [],
   "source": [
    "twitter_df = pd.merge(\n",
    "    left=twitter_df,\n",
    "    right=candidates_df,\n",
    "    on=\"author_id\",\n",
    "    how=\"inner\"\n",
    ")"
   ]
  },
  {
   "cell_type": "markdown",
   "id": "2707b32d",
   "metadata": {},
   "source": [
    "# Clean tweets"
   ]
  },
  {
   "cell_type": "code",
   "execution_count": 17,
   "id": "2fc500e4",
   "metadata": {},
   "outputs": [],
   "source": [
    "from tweet_preprocessing import normalize_mentions, normalize_tokens "
   ]
  },
  {
   "cell_type": "markdown",
   "id": "ff7065a0",
   "metadata": {},
   "source": [
    "## Normalize user names"
   ]
  },
  {
   "cell_type": "code",
   "execution_count": 18,
   "id": "46234dd0",
   "metadata": {},
   "outputs": [],
   "source": [
    "user_name_mapping_path = os.path.join(BASE_DATA_DIR, \"twitter_data/user_name_mapping.json\")"
   ]
  },
  {
   "cell_type": "code",
   "execution_count": 19,
   "id": "d0e6656c",
   "metadata": {},
   "outputs": [],
   "source": [
    "import json"
   ]
  },
  {
   "cell_type": "code",
   "execution_count": 20,
   "id": "5ec3c7b3",
   "metadata": {},
   "outputs": [],
   "source": [
    "with open(user_name_mapping_path, \"r\") as f:\n",
    "    mapping = json.load(f)"
   ]
  },
  {
   "cell_type": "code",
   "execution_count": 21,
   "id": "4105cc97",
   "metadata": {},
   "outputs": [
    {
     "name": "stdout",
     "output_type": "stream",
     "text": [
      "Error with mention 'dna4287'.\n"
     ]
    }
   ],
   "source": [
    "normalize_mentions(twitter_df, twitter_api, user_name_mapping_path)"
   ]
  },
  {
   "cell_type": "markdown",
   "id": "0440ec82",
   "metadata": {},
   "source": [
    "## Normalize tokens"
   ]
  },
  {
   "cell_type": "code",
   "execution_count": 22,
   "id": "9ea22453",
   "metadata": {},
   "outputs": [],
   "source": [
    "token_mapping = {\n",
    "    \"#\": \"\",\n",
    "    \"BuReg\": \"Bundesregierung\",\n",
    "    \"🇩🇪\": \"Deutschland\",\n",
    "    \"&amp;\": \"und\",\n",
    "    r\"(?i)\\b((?:https?://|www\\d{0,3}[.]|[a-z0-9.\\-]+[.][a-z]{2,4}/)(?:[^\\s()<>]+|\\(([^\\s()<>]+|(\\([^\\s()<>]+\\)))*\\))+(?:\\(([^\\s()<>]+|(\\([^\\s()<>]+\\)))*\\)|[^\\s`!()\\[\\]{};:'\\\".,<>?«»“”‘’]))\": \"\"\n",
    "}"
   ]
  },
  {
   "cell_type": "code",
   "execution_count": 23,
   "id": "a276fa5e",
   "metadata": {},
   "outputs": [],
   "source": [
    "twitter_df[\"cleaned_text\"] = twitter_df.cleaned_text.map(lambda x: normalize_tokens(x, token_mapping))"
   ]
  },
  {
   "cell_type": "code",
   "execution_count": 24,
   "id": "5144fd16",
   "metadata": {},
   "outputs": [],
   "source": [
    "html_artefact_mapping = {\n",
    "    \"&amp;\": \"&\"\n",
    "}"
   ]
  },
  {
   "cell_type": "code",
   "execution_count": 25,
   "id": "2863b04e",
   "metadata": {},
   "outputs": [],
   "source": [
    "twitter_df[\"text\"] = twitter_df.text.map(lambda x: normalize_tokens(x, html_artefact_mapping))"
   ]
  },
  {
   "cell_type": "markdown",
   "id": "7fe4086b",
   "metadata": {},
   "source": [
    "# Normalize party"
   ]
  },
  {
   "cell_type": "code",
   "execution_count": 26,
   "id": "2f5643f5",
   "metadata": {},
   "outputs": [],
   "source": [
    "twitter_df[\"party\"] = twitter_df.party.map(lambda x: \"CDU/CSU\" if x in [\"CDU\", \"CSU\"] else x)"
   ]
  },
  {
   "cell_type": "markdown",
   "id": "9d951fc5",
   "metadata": {},
   "source": [
    "# Store data"
   ]
  },
  {
   "cell_type": "code",
   "execution_count": 27,
   "id": "a37da69e",
   "metadata": {},
   "outputs": [],
   "source": [
    "from datetime import datetime"
   ]
  },
  {
   "cell_type": "code",
   "execution_count": 28,
   "id": "e5f50e87",
   "metadata": {},
   "outputs": [],
   "source": [
    "current_date = datetime.now().strftime(\"%Y%m%d\")\n",
    "file_name = f\"twitter_df_{current_date}.pkl\""
   ]
  },
  {
   "cell_type": "code",
   "execution_count": 29,
   "id": "cosmetic-relevance",
   "metadata": {},
   "outputs": [],
   "source": [
    "twitter_df.to_pickle(os.path.join(BASE_DATA_DIR, f\"twitter_data/processed_datasets/{file_name}\"))"
   ]
  },
  {
   "cell_type": "code",
   "execution_count": null,
   "id": "03883741",
   "metadata": {},
   "outputs": [],
   "source": [
    "# twitter_df = pd.read_pickle(os.path.join(BASE_DATA_DIR, f\"twitter_data/processed_datasets/{file_name}\"))"
   ]
  },
  {
   "cell_type": "code",
   "execution_count": null,
   "id": "ad2658af",
   "metadata": {},
   "outputs": [],
   "source": []
  }
 ],
 "metadata": {
  "kernelspec": {
   "display_name": "Python 3",
   "language": "python",
   "name": "python3"
  },
  "language_info": {
   "codemirror_mode": {
    "name": "ipython",
    "version": 3
   },
   "file_extension": ".py",
   "mimetype": "text/x-python",
   "name": "python",
   "nbconvert_exporter": "python",
   "pygments_lexer": "ipython3",
   "version": "3.7.8"
  }
 },
 "nbformat": 4,
 "nbformat_minor": 5
}
